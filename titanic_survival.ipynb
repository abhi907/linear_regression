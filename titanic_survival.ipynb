{
 "cells": [
  {
   "cell_type": "code",
   "execution_count": 19,
   "metadata": {},
   "outputs": [],
   "source": [
    "import numpy as np\n",
    "import pandas as pd\n",
    "import matplotlib.pyplot as plt"
   ]
  },
  {
   "cell_type": "code",
   "execution_count": 51,
   "metadata": {},
   "outputs": [],
   "source": [
    "dataset = pd.read_csv('https://storage.googleapis.com/tf-datasets/titanic/train.csv')\n",
    "x = dataset.iloc[:, 1:3].values\n",
    "y = dataset.iloc[:, 0].values"
   ]
  },
  {
   "cell_type": "code",
   "execution_count": 52,
   "metadata": {},
   "outputs": [
    {
     "name": "stdout",
     "output_type": "stream",
     "text": [
      "[['male' 22.0]\n",
      " ['female' 38.0]\n",
      " ['female' 26.0]\n",
      " ...\n",
      " ['female' 19.0]\n",
      " ['female' 28.0]\n",
      " ['male' 32.0]]\n"
     ]
    }
   ],
   "source": [
    "print(x)"
   ]
  },
  {
   "cell_type": "code",
   "execution_count": 53,
   "metadata": {},
   "outputs": [
    {
     "name": "stdout",
     "output_type": "stream",
     "text": [
      "[0 1 1 1 0 0 1 1 1 0 0 0 0 1 0 1 0 1 1 0 0 1 0 0 1 1 0 0 0 1 1 0 0 0 1 0 0\n",
      " 0 0 0 1 1 0 1 1 0 0 0 1 0 0 1 0 1 0 0 0 1 0 0 0 1 1 0 1 1 0 0 0 1 0 0 0 0\n",
      " 0 1 1 0 0 0 0 0 0 0 1 1 0 0 0 0 0 0 0 0 0 0 1 0 1 0 0 0 0 1 0 0 0 0 1 0 0\n",
      " 0 0 0 0 0 0 1 0 0 0 0 0 0 1 0 0 0 0 0 0 0 0 0 0 1 1 1 0 1 1 1 1 1 0 1 0 0\n",
      " 0 0 0 0 1 1 1 1 0 0 1 1 0 0 1 0 0 1 0 0 0 1 0 0 0 0 0 0 0 1 0 0 0 1 0 0 0\n",
      " 0 1 1 1 0 1 0 0 0 0 1 1 1 0 1 1 0 1 1 0 0 0 1 0 0 0 1 0 0 1 1 1 0 1 0 1 1\n",
      " 0 1 1 1 0 0 0 1 1 1 0 0 1 0 1 0 1 1 0 1 0 0 1 0 0 0 0 1 1 1 0 0 0 0 1 0 1\n",
      " 1 0 0 0 0 0 1 1 1 1 0 0 1 0 0 1 0 0 0 0 0 1 1 1 1 1 0 0 0 0 1 0 0 0 1 0 0\n",
      " 0 0 0 1 0 1 1 0 0 0 0 1 0 1 1 1 1 0 0 1 1 0 0 1 0 1 1 1 1 1 0 0 1 1 0 1 1\n",
      " 0 0 0 0 0 0 1 0 1 1 0 0 0 1 0 0 1 1 0 1 0 1 0 0 0 0 0 0 0 0 1 1 1 1 0 0 1\n",
      " 1 0 1 0 1 0 0 1 0 0 1 0 1 0 1 0 1 1 1 0 0 0 1 1 0 1 0 0 1 1 0 1 1 0 0 0 0\n",
      " 0 0 1 1 1 1 0 1 1 0 0 1 0 0 1 0 0 0 0 1 0 0 1 1 0 0 1 1 1 0 0 1 0 1 0 0 1\n",
      " 0 0 1 0 0 1 0 1 0 1 0 0 0 0 1 1 1 0 1 0 1 0 0 0 0 1 0 0 1 0 0 0 1 0 1 0 0\n",
      " 1 1 1 0 0 0 0 0 1 1 1 1 0 1 0 1 0 0 1 1 1 0 1 0 0 1 1 0 0 1 0 1 1 0 0 1 0\n",
      " 0 0 0 1 0 0 0 1 0 0 1 1 0 0 1 0 0 0 0 1 1 0 0 0 0 0 0 0 1 1 0 0 0 1 0 0 0\n",
      " 0 0 0 0 1 1 0 0 0 1 1 0 0 0 1 0 0 0 0 0 0 0 0 1 1 0 0 0 1 1 0 0 0 1 0 0 1\n",
      " 0 1 0 0 0 0 0 1 0 1 1 1 1 1 0 0 1 1 0 1 0 1 0 0 1 1 0 0 0 0 0 0 1 0 0]\n"
     ]
    }
   ],
   "source": [
    "print(y)"
   ]
  },
  {
   "cell_type": "code",
   "execution_count": 54,
   "metadata": {},
   "outputs": [
    {
     "name": "stdout",
     "output_type": "stream",
     "text": [
      "[[0.0 1.0 22.0]\n",
      " [1.0 0.0 38.0]\n",
      " [1.0 0.0 26.0]\n",
      " ...\n",
      " [1.0 0.0 19.0]\n",
      " [1.0 0.0 28.0]\n",
      " [0.0 1.0 32.0]]\n"
     ]
    }
   ],
   "source": [
    "from sklearn.compose import ColumnTransformer\n",
    "from sklearn.preprocessing import OneHotEncoder\n",
    "ct = ColumnTransformer(transformers=[('encoder', OneHotEncoder(), [0])], remainder='passthrough')\n",
    "x = np.array(ct.fit_transform(x))\n",
    "print(x)"
   ]
  },
  {
   "cell_type": "code",
   "execution_count": 55,
   "metadata": {},
   "outputs": [],
   "source": [
    "from sklearn.model_selection import train_test_split\n",
    "x_train,x_test,y_train,y_test = train_test_split(x, y, test_size=1/3, random_state=0)"
   ]
  },
  {
   "cell_type": "code",
   "execution_count": 56,
   "metadata": {},
   "outputs": [
    {
     "data": {
      "text/plain": [
       "LinearRegression()"
      ]
     },
     "execution_count": 56,
     "metadata": {},
     "output_type": "execute_result"
    }
   ],
   "source": [
    "from sklearn.linear_model import LinearRegression\n",
    "regressor = LinearRegression()\n",
    "regressor.fit(x_train, y_train)"
   ]
  },
  {
   "cell_type": "code",
   "execution_count": 57,
   "metadata": {},
   "outputs": [],
   "source": [
    "y_pred = regressor.predict(x_test)"
   ]
  },
  {
   "cell_type": "code",
   "execution_count": 60,
   "metadata": {},
   "outputs": [
    {
     "name": "stdout",
     "output_type": "stream",
     "text": [
      "[[0.78 1.  ]\n",
      " [0.19 0.  ]\n",
      " [0.79 1.  ]\n",
      " [0.78 1.  ]\n",
      " [0.19 0.  ]\n",
      " [0.79 1.  ]\n",
      " [0.19 0.  ]\n",
      " [0.19 0.  ]\n",
      " [0.78 1.  ]\n",
      " [0.19 0.  ]\n",
      " [0.78 1.  ]\n",
      " [0.21 0.  ]\n",
      " [0.17 1.  ]\n",
      " [0.77 0.  ]\n",
      " [0.78 1.  ]\n",
      " [0.19 0.  ]\n",
      " [0.78 0.  ]\n",
      " [0.79 1.  ]\n",
      " [0.19 1.  ]\n",
      " [0.18 0.  ]\n",
      " [0.19 0.  ]\n",
      " [0.18 1.  ]\n",
      " [0.19 0.  ]\n",
      " [0.19 0.  ]\n",
      " [0.19 0.  ]\n",
      " [0.19 0.  ]\n",
      " [0.78 1.  ]\n",
      " [0.8  1.  ]\n",
      " [0.19 0.  ]\n",
      " [0.19 0.  ]\n",
      " [0.17 0.  ]\n",
      " [0.19 0.  ]\n",
      " [0.77 1.  ]\n",
      " [0.78 1.  ]\n",
      " [0.78 1.  ]\n",
      " [0.19 0.  ]\n",
      " [0.79 1.  ]\n",
      " [0.19 1.  ]\n",
      " [0.77 1.  ]\n",
      " [0.18 0.  ]\n",
      " [0.19 0.  ]\n",
      " [0.78 0.  ]\n",
      " [0.78 1.  ]\n",
      " [0.79 1.  ]\n",
      " [0.2  0.  ]\n",
      " [0.78 1.  ]\n",
      " [0.78 1.  ]\n",
      " [0.78 0.  ]\n",
      " [0.19 0.  ]\n",
      " [0.18 1.  ]\n",
      " [0.77 1.  ]\n",
      " [0.77 1.  ]\n",
      " [0.2  1.  ]\n",
      " [0.78 0.  ]\n",
      " [0.18 0.  ]\n",
      " [0.79 1.  ]\n",
      " [0.19 0.  ]\n",
      " [0.17 1.  ]\n",
      " [0.8  1.  ]\n",
      " [0.78 1.  ]\n",
      " [0.78 1.  ]\n",
      " [0.18 0.  ]\n",
      " [0.19 0.  ]\n",
      " [0.17 1.  ]\n",
      " [0.18 0.  ]\n",
      " [0.2  1.  ]\n",
      " [0.79 1.  ]\n",
      " [0.19 0.  ]\n",
      " [0.8  1.  ]\n",
      " [0.18 0.  ]\n",
      " [0.8  0.  ]\n",
      " [0.78 1.  ]\n",
      " [0.17 1.  ]\n",
      " [0.8  0.  ]\n",
      " [0.2  0.  ]\n",
      " [0.18 0.  ]\n",
      " [0.16 0.  ]\n",
      " [0.19 0.  ]\n",
      " [0.19 0.  ]\n",
      " [0.19 0.  ]\n",
      " [0.79 1.  ]\n",
      " [0.19 0.  ]\n",
      " [0.18 0.  ]\n",
      " [0.76 1.  ]\n",
      " [0.19 0.  ]\n",
      " [0.8  1.  ]\n",
      " [0.19 0.  ]\n",
      " [0.19 1.  ]\n",
      " [0.79 1.  ]\n",
      " [0.78 1.  ]\n",
      " [0.19 0.  ]\n",
      " [0.17 0.  ]\n",
      " [0.19 0.  ]\n",
      " [0.19 0.  ]\n",
      " [0.19 0.  ]\n",
      " [0.79 1.  ]\n",
      " [0.21 0.  ]\n",
      " [0.18 0.  ]\n",
      " [0.78 1.  ]\n",
      " [0.78 1.  ]\n",
      " [0.2  0.  ]\n",
      " [0.19 0.  ]\n",
      " [0.77 0.  ]\n",
      " [0.21 0.  ]\n",
      " [0.77 1.  ]\n",
      " [0.77 0.  ]\n",
      " [0.78 0.  ]\n",
      " [0.19 0.  ]\n",
      " [0.19 0.  ]\n",
      " [0.18 0.  ]\n",
      " [0.78 1.  ]\n",
      " [0.19 0.  ]\n",
      " [0.78 1.  ]\n",
      " [0.19 0.  ]\n",
      " [0.79 1.  ]\n",
      " [0.18 1.  ]\n",
      " [0.79 0.  ]\n",
      " [0.19 0.  ]\n",
      " [0.78 1.  ]\n",
      " [0.19 0.  ]\n",
      " [0.77 1.  ]\n",
      " [0.19 0.  ]\n",
      " [0.78 1.  ]\n",
      " [0.18 0.  ]\n",
      " [0.19 0.  ]\n",
      " [0.77 1.  ]\n",
      " [0.19 1.  ]\n",
      " [0.18 0.  ]\n",
      " [0.19 0.  ]\n",
      " [0.2  1.  ]\n",
      " [0.18 0.  ]\n",
      " [0.19 0.  ]\n",
      " [0.18 0.  ]\n",
      " [0.19 0.  ]\n",
      " [0.19 0.  ]\n",
      " [0.19 0.  ]\n",
      " [0.19 0.  ]\n",
      " [0.19 0.  ]\n",
      " [0.19 1.  ]\n",
      " [0.17 0.  ]\n",
      " [0.19 0.  ]\n",
      " [0.18 0.  ]\n",
      " [0.18 0.  ]\n",
      " [0.77 1.  ]\n",
      " [0.78 1.  ]\n",
      " [0.78 0.  ]\n",
      " [0.19 0.  ]\n",
      " [0.19 0.  ]\n",
      " [0.78 0.  ]\n",
      " [0.77 1.  ]\n",
      " [0.19 0.  ]\n",
      " [0.19 0.  ]\n",
      " [0.77 1.  ]\n",
      " [0.79 1.  ]\n",
      " [0.78 1.  ]\n",
      " [0.18 0.  ]\n",
      " [0.78 1.  ]\n",
      " [0.19 0.  ]\n",
      " [0.17 0.  ]\n",
      " [0.78 1.  ]\n",
      " [0.79 0.  ]\n",
      " [0.19 0.  ]\n",
      " [0.19 0.  ]\n",
      " [0.78 0.  ]\n",
      " [0.2  0.  ]\n",
      " [0.16 0.  ]\n",
      " [0.19 1.  ]\n",
      " [0.2  0.  ]\n",
      " [0.19 0.  ]\n",
      " [0.78 0.  ]\n",
      " [0.18 1.  ]\n",
      " [0.19 0.  ]\n",
      " [0.19 0.  ]\n",
      " [0.19 0.  ]\n",
      " [0.18 0.  ]\n",
      " [0.18 0.  ]\n",
      " [0.19 0.  ]\n",
      " [0.79 1.  ]\n",
      " [0.79 1.  ]\n",
      " [0.19 0.  ]\n",
      " [0.19 0.  ]\n",
      " [0.19 1.  ]\n",
      " [0.19 0.  ]\n",
      " [0.19 1.  ]\n",
      " [0.19 0.  ]\n",
      " [0.78 0.  ]\n",
      " [0.79 1.  ]\n",
      " [0.19 1.  ]\n",
      " [0.18 1.  ]\n",
      " [0.16 0.  ]\n",
      " [0.19 0.  ]\n",
      " [0.78 1.  ]\n",
      " [0.19 0.  ]\n",
      " [0.19 0.  ]\n",
      " [0.19 0.  ]\n",
      " [0.18 0.  ]\n",
      " [0.78 1.  ]\n",
      " [0.2  0.  ]\n",
      " [0.78 0.  ]\n",
      " [0.79 1.  ]\n",
      " [0.18 0.  ]\n",
      " [0.78 1.  ]\n",
      " [0.17 1.  ]\n",
      " [0.78 1.  ]\n",
      " [0.19 0.  ]\n",
      " [0.19 0.  ]\n",
      " [0.18 0.  ]\n",
      " [0.19 0.  ]\n",
      " [0.79 1.  ]]\n"
     ]
    }
   ],
   "source": [
    "np.set_printoptions(precision=2)\n",
    "print(np.concatenate((y_pred.reshape(len(y_pred),1), y_test.reshape(len(y_test),1)),1))"
   ]
  }
 ],
 "metadata": {
  "kernelspec": {
   "display_name": "Python 3",
   "language": "python",
   "name": "python3"
  },
  "language_info": {
   "codemirror_mode": {
    "name": "ipython",
    "version": 3
   },
   "file_extension": ".py",
   "mimetype": "text/x-python",
   "name": "python",
   "nbconvert_exporter": "python",
   "pygments_lexer": "ipython3",
   "version": "3.8.3"
  }
 },
 "nbformat": 4,
 "nbformat_minor": 4
}
